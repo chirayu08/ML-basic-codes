{
 "cells": [
  {
   "cell_type": "code",
   "execution_count": 1,
   "metadata": {},
   "outputs": [
    {
     "name": "stdout",
     "output_type": "stream",
     "text": [
      "K-Means Clustering Accuracy: 86.14%\n",
      "\n",
      "Confusion Matrix:\n",
      "[[176   0   0   0   2   0   0   0   0   0]\n",
      " [  0 130  23   1   0   1   2   0   3  22]\n",
      " [  1   6 146  12   0   0   0   2   9   1]\n",
      " [  0   0   1 159   0   2   0   7   6   8]\n",
      " [  0  13   0   0 159   0   0   5   4   0]\n",
      " [  0   0   0   0   2 137   2   0   0  41]\n",
      " [  1   3   0   0   0   0 176   0   1   0]\n",
      " [  0   0   0   0   0   0   0 169  10   0]\n",
      " [  0  14   3   0   0   2   1   2 136  16]\n",
      " [  0   1   0   1   3   4   0   8   3 160]]\n"
     ]
    }
   ],
   "source": [
    "# Import necessary libraries\n",
    "from sklearn.datasets import load_digits\n",
    "from sklearn.cluster import KMeans\n",
    "from sklearn.metrics import accuracy_score, confusion_matrix\n",
    "from scipy.stats import mode\n",
    "import numpy as np\n",
    "import matplotlib.pyplot as plt\n",
    "import seaborn as sns\n",
    "# Load the digits dataset\n",
    "digits = load_digits()\n",
    "X = digits.data # Feature vectors\n",
    "y = digits.target # True labels\n",
    "# Initialize the K-Means model with 10 clusters (one for each digit)\n",
    "kmeans = KMeans(n_clusters=10, random_state=42)\n",
    "kmeans.fit(X)\n",
    "# Predict the cluster labels\n",
    "cluster_labels = kmeans.labels_\n",
    "label_mapping = np.zeros_like(cluster_labels)\n",
    "for i in range(10):\n",
    "    mask= (cluster_labels == i)\n",
    "    label_mapping[mask] = mode(y[mask])[0]\n",
    "# Calculate the accuracy\n",
    "accuracy = accuracy_score(y, label_mapping)\n",
    "print(f\"K-Means Clustering Accuracy: {accuracy * 100:.2f}%\")\n",
    "# Confusion Matrix\n",
    "print(\"\\nConfusion Matrix:\")\n",
    "print(confusion_matrix(y, label_mapping))\n",
    "\n",
    "\n",
    "\n"
   ]
  }
 ],
 "metadata": {
  "kernelspec": {
   "display_name": "base",
   "language": "python",
   "name": "python3"
  },
  "language_info": {
   "codemirror_mode": {
    "name": "ipython",
    "version": 3
   },
   "file_extension": ".py",
   "mimetype": "text/x-python",
   "name": "python",
   "nbconvert_exporter": "python",
   "pygments_lexer": "ipython3",
   "version": "3.12.7"
  }
 },
 "nbformat": 4,
 "nbformat_minor": 2
}
